{
 "cells": [
  {
   "cell_type": "markdown",
   "metadata": {},
   "source": [
    "### Import modules"
   ]
  },
  {
   "cell_type": "code",
   "execution_count": 169,
   "metadata": {},
   "outputs": [],
   "source": [
    "from PIL import Image\n",
    "import numpy as np\n",
    "import matplotlib.pyplot as plt"
   ]
  },
  {
   "cell_type": "markdown",
   "metadata": {},
   "source": [
    "### Initialize centroids"
   ]
  },
  {
   "cell_type": "code",
   "execution_count": 170,
   "metadata": {},
   "outputs": [],
   "source": [
    "def initialize_centroids(img_1d, k_clusters, init_centroids):\n",
    "    if init_centroids == 'random':\n",
    "        return np.random.choice(256, size=(k_clusters, img_1d.shape[1]), replace=False)\n",
    "    elif init_centroids == 'in_pixels':\n",
    "        return img_1d[np.random.choice(img_1d.shape[0], k_clusters, replace=False)]"
   ]
  },
  {
   "cell_type": "markdown",
   "metadata": {},
   "source": [
    "### Calculate distance between pixels in two matrices"
   ]
  },
  {
   "cell_type": "code",
   "execution_count": 171,
   "metadata": {},
   "outputs": [],
   "source": [
    "def calc_dist_mat(img_1d, centroids):\n",
    "    # Lấy ý tưởng dựa trên broadcasting, bằng cách reshape hai ma trận img_1d và centroids, để có thể trừ cùng lúc tất cả phần tử thuộc img_1d cho tất cả phần tử thuộc centroids \n",
    "    a = img_1d.reshape(img_1d.shape[0], 1, img_1d.shape[1])\n",
    "    b = centroids.reshape(1, centroids.shape[0], img_1d.shape[1])\n",
    "    return np.sqrt(np.square(a - b).sum(axis=2))"
   ]
  },
  {
   "cell_type": "markdown",
   "metadata": {},
   "source": [
    "### Update new centroids"
   ]
  },
  {
   "cell_type": "code",
   "execution_count": 172,
   "metadata": {},
   "outputs": [],
   "source": [
    "def update_centroids(img_1d, centroids, labels):\n",
    "    for k in range(centroids.shape[0]):\n",
    "        # Lấy ra các điểm màu thuộc về cluster thứ k\n",
    "        cluster_points = img_1d[labels == k]\n",
    "        # Update lại cluster thứ k nếu cần thiết\n",
    "        if len(cluster_points) > 0:\n",
    "            centroids[k] = np.mean(cluster_points, axis=0)"
   ]
  },
  {
   "cell_type": "markdown",
   "metadata": {},
   "source": [
    "### K-means algorithm"
   ]
  },
  {
   "cell_type": "code",
   "execution_count": 173,
   "metadata": {},
   "outputs": [],
   "source": [
    "def kmeans(img_1d, k_clusters, max_iter, init_centroids='random'):\n",
    "    centroids = initialize_centroids(img_1d, k_clusters, init_centroids).astype(float)\n",
    "    labels = np.zeros(img_1d.shape[0])\n",
    "    while max_iter > 0:\n",
    "        # Lưu trữ centroids cũ trước khi update\n",
    "        pre_centroids = np.copy(centroids)\n",
    "        # Tính labels \n",
    "        labels = calc_dist_mat(img_1d, centroids).argmin(axis=1)\n",
    "        update_centroids(img_1d, centroids, labels)\n",
    "        # Nếu mức độ thay đổi của centroids mới so centroids cũ không \n",
    "        # quá hằng số Epsilon cho trước thì dừng \n",
    "        if(np.allclose(pre_centroids, centroids, atol=1)):\n",
    "            break\n",
    "        max_iter -= 1   \n",
    "    return centroids, labels"
   ]
  },
  {
   "cell_type": "markdown",
   "metadata": {},
   "source": [
    "### Recolorize image"
   ]
  },
  {
   "cell_type": "code",
   "execution_count": 174,
   "metadata": {},
   "outputs": [],
   "source": [
    "def recolorize_image(img_1d, k_clusters, centroids, labels):\n",
    "  # Tạo ma trận 0 có kích thước bằng img_1d\n",
    "  recolorized_img = np.zeros((img_1d.shape[0], img_1d.shape[1]))\n",
    "  for k in range(k_clusters):\n",
    "    # Cộng các phần tử của ma trận 0 (thỏa điều kiện có labels tại đó = k) cho centroid k, tương đương với phép gán centroid k cho các phần tử có label tương ứng\n",
    "    recolorized_img[labels == k] += centroids[k]\n",
    "  return recolorized_img"
   ]
  },
  {
   "cell_type": "markdown",
   "metadata": {},
   "source": [
    "### Main function"
   ]
  },
  {
   "cell_type": "code",
   "execution_count": 175,
   "metadata": {},
   "outputs": [
    {
     "name": "stdout",
     "output_type": "stream",
     "text": [
      "Number of colors in orginal image: 1556 colors\n",
      "Number of colors in compressed image: 7 colors\n",
      "Max iteration: 20\n",
      "=========== random centroids ==========\n",
      "Centroids: \n",
      " [[202.         247.          67.          48.        ]\n",
      " [ 13.         136.          86.           8.        ]\n",
      " [ 50.59104478  50.62510975  74.49341528 255.        ]\n",
      " [165.57913326 220.48828649 254.91904861 255.        ]\n",
      " [246.78576769 204.58932218 155.14593219 255.        ]\n",
      " [ 22.          61.         139.           7.        ]\n",
      " [254.40633908 254.64981773 254.77284032 255.        ]]\n"
     ]
    },
    {
     "data": {
      "image/png": "[encoded data removed]",
      "text/plain": [
       "<Figure size 640x480 with 1 Axes>"
      ]
     },
     "metadata": {},
     "output_type": "display_data"
    }
   ],
   "source": [
    "if __name__ == '__main__':\n",
    "\n",
    "  # Nhập tên ảnh đầu vào, định dạng đầu ra và k clusters\n",
    "  image_name = input('Name of image: ')\n",
    "  image_ext = input('Image format you want to save: ')\n",
    "  k_clusters = int(input('K cluster (3, 5, 7): '))\n",
    "\n",
    "  # Kiểu chọn centroids: in_pixels hoặc random\n",
    "  choosing_way = 'random'\n",
    "  # Max iteration\n",
    "  max_iter = 20\n",
    "\n",
    "  image = Image.open(image_name)\n",
    "  # Chuyển ảnh thành np.array với kiểu dữ liệu float\n",
    "  image_arr = np.array(image).astype('float')\n",
    "  # Reshape thành ma trận 1 chiều các điểm ảnh (Mỗi điểm ảnh là 1 vector)\n",
    "  image_1d = image_arr.reshape((image_arr.shape[0] * image_arr.shape[1], image_arr.shape[2]))\n",
    "  print(f'Number of colors in orginal image: {np.unique(image_1d, axis=0).shape[0]} colors')\n",
    "  print(f\"Number of colors in compressed image: {k_clusters} colors\")\n",
    "  print(f\"Max iteration: {max_iter}\")\n",
    "  \n",
    "  # Show the centroids matrix and compressed image\n",
    "  print(f\"=========== {choosing_way} centroids ==========\")\n",
    "  centroids, labels = kmeans(image_1d, k_clusters, max_iter, init_centroids=choosing_way)\n",
    "  print(\"Centroids: \\n\", centroids)\n",
    "  compressed_img = recolorize_image(image_1d, centroids.shape[0], centroids, labels).reshape(image_arr.shape)\n",
    "  plt.imshow(compressed_img.astype('uint8'))\n",
    "  plt.show()\n",
    "\n",
    "  # Save the compressed image\n",
    "  image_name = image_name.split('.')\n",
    "  Image.fromarray(compressed_img.astype('uint8')).save(f'compressed_{image_name[0]}.{image_ext}')"
   ]
  }
 ],
 "metadata": {
  "kernelspec": {
   "display_name": "base",
   "language": "python",
   "name": "python3"
  },
  "language_info": {
   "codemirror_mode": {
    "name": "ipython",
    "version": 3
   },
   "file_extension": ".py",
   "mimetype": "text/x-python",
   "name": "python",
   "nbconvert_exporter": "python",
   "pygments_lexer": "ipython3",
   "version": "3.10.9"
  },
  "orig_nbformat": 4
 },
 "nbformat": 4,
 "nbformat_minor": 2
}
